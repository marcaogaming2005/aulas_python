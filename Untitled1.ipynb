{
 "cells": [
  {
   "cell_type": "code",
   "execution_count": 1,
   "id": "db6cfb48",
   "metadata": {},
   "outputs": [],
   "source": [
    "lista_convidados_marcao = ['Pedro Almada', 'Guilherme', 'Théo', 'Marcelo', 'Bernardo']\n"
   ]
  },
  {
   "cell_type": "code",
   "execution_count": 2,
   "id": "493f3271",
   "metadata": {},
   "outputs": [],
   "source": [
    "lista_convidados_marcao[0] = 'Guilherme'"
   ]
  },
  {
   "cell_type": "code",
   "execution_count": 3,
   "id": "e4589caf",
   "metadata": {},
   "outputs": [
    {
     "name": "stdout",
     "output_type": "stream",
     "text": [
      "Guilherme\n"
     ]
    }
   ],
   "source": [
    "print(lista_convidados_marcao[0])"
   ]
  },
  {
   "cell_type": "code",
   "execution_count": 4,
   "id": "ee8fc3b1",
   "metadata": {},
   "outputs": [
    {
     "data": {
      "text/plain": [
       "'Bernardo'"
      ]
     },
     "execution_count": 4,
     "metadata": {},
     "output_type": "execute_result"
    }
   ],
   "source": [
    "lista_convidados_marcao.pop()"
   ]
  },
  {
   "cell_type": "code",
   "execution_count": 5,
   "id": "f5d6e217",
   "metadata": {},
   "outputs": [
    {
     "ename": "NameError",
     "evalue": "name 'lista_convidado_marcao' is not defined",
     "output_type": "error",
     "traceback": [
      "\u001b[1;31m---------------------------------------------------------------------------\u001b[0m",
      "\u001b[1;31mNameError\u001b[0m                                 Traceback (most recent call last)",
      "\u001b[1;32m<ipython-input-5-314b4f241348>\u001b[0m in \u001b[0;36m<module>\u001b[1;34m\u001b[0m\n\u001b[1;32m----> 1\u001b[1;33m \u001b[0mprint\u001b[0m\u001b[1;33m(\u001b[0m\u001b[0mlen\u001b[0m\u001b[1;33m(\u001b[0m\u001b[0mlista_convidado_marcao\u001b[0m\u001b[1;33m)\u001b[0m\u001b[1;33m)\u001b[0m\u001b[1;33m\u001b[0m\u001b[1;33m\u001b[0m\u001b[0m\n\u001b[0m",
      "\u001b[1;31mNameError\u001b[0m: name 'lista_convidado_marcao' is not defined"
     ]
    }
   ],
   "source": [
    "print(len(lista_convidado_marcao))"
   ]
  },
  {
   "cell_type": "code",
   "execution_count": 6,
   "id": "608c52e7",
   "metadata": {},
   "outputs": [
    {
     "name": "stdout",
     "output_type": "stream",
     "text": [
      "[['1', '2'], ['3', '4'], ['5', '6'], ['7', '8'], ['9', '10'], ['11', '12']]\n"
     ]
    }
   ],
   "source": [
    "shadow = [['1', '2'], ['3', '4'], ['5', '6'], ['7', '8'], ['9', '10'], ['11', '12']]\n",
    "print(shadow)"
   ]
  },
  {
   "cell_type": "code",
   "execution_count": 7,
   "id": "6376ab2f",
   "metadata": {},
   "outputs": [
    {
     "name": "stdout",
     "output_type": "stream",
     "text": [
      "4\n"
     ]
    }
   ],
   "source": [
    "print(len(lista_convidados_marcao))"
   ]
  },
  {
   "cell_type": "code",
   "execution_count": 8,
   "id": "0b159c3c",
   "metadata": {},
   "outputs": [
    {
     "name": "stdout",
     "output_type": "stream",
     "text": [
      "[1, 2, 3, 4, 5, 6, 7, 8, 9, 10, 11, 12, 13, 14, 15, 16, 17, 18, 19, 20, 21, 22, 23, 24, 25, 26, 27, 28, 29, 30, 31, 32, 33, 34, 35, 36, 37, 38, 39, 40, 41, 42, 43, 44, 45, 46, 47, 48, 49, 50, 51, 52, 53, 54, 55, 56, 57, 58, 59, 60, 61, 62, 63, 64, 65, 66, 67, 68, 69, 70, 71, 72, 73, 74, 75, 76, 77, 78, 79, 80, 81, 82, 83, 84, 85, 86, 87, 88, 89, 90, 91, 92, 93, 94, 95, 96, 97, 98, 99]\n"
     ]
    }
   ],
   "source": [
    "valores = list(range(1, 100))\n",
    "print(valores)"
   ]
  },
  {
   "cell_type": "code",
   "execution_count": 9,
   "id": "34f99364",
   "metadata": {},
   "outputs": [
    {
     "name": "stdout",
     "output_type": "stream",
     "text": [
      "1\n",
      "99\n"
     ]
    }
   ],
   "source": [
    "print(min(valores))\n",
    "print(max(valores))"
   ]
  },
  {
   "cell_type": "code",
   "execution_count": null,
   "id": "7f1a7ecd",
   "metadata": {},
   "outputs": [],
   "source": []
  }
 ],
 "metadata": {
  "kernelspec": {
   "display_name": "Python 3",
   "language": "python",
   "name": "python3"
  },
  "language_info": {
   "codemirror_mode": {
    "name": "ipython",
    "version": 3
   },
   "file_extension": ".py",
   "mimetype": "text/x-python",
   "name": "python",
   "nbconvert_exporter": "python",
   "pygments_lexer": "ipython3",
   "version": "3.8.8"
  }
 },
 "nbformat": 4,
 "nbformat_minor": 5
}
