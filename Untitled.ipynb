{
 "cells": [
  {
   "cell_type": "code",
   "execution_count": null,
   "id": "3de2ab45",
   "metadata": {},
   "outputs": [],
   "source": [
    "print('Hello, World!')"
   ]
  },
  {
   "cell_type": "code",
   "execution_count": null,
   "id": "c4d651e9",
   "metadata": {},
   "outputs": [],
   "source": [
    "nome = input('Qual é seu nome')"
   ]
  },
  {
   "cell_type": "code",
   "execution_count": null,
   "id": "eba89b8a",
   "metadata": {},
   "outputs": [],
   "source": [
    "print('Marcão é muito forte e bonito!')"
   ]
  },
  {
   "cell_type": "code",
   "execution_count": null,
   "id": "ebade756",
   "metadata": {},
   "outputs": [],
   "source": [
    "var = 3 #Inteiro\n",
    "var2 = 'Marcão' #string\n",
    "var3 = 5.5 #float\n",
    "print(type(var))\n",
    "print(type(var2))\n",
    "print(type(var3))\n"
   ]
  },
  {
   "cell_type": "code",
   "execution_count": null,
   "id": "0b58abfd",
   "metadata": {},
   "outputs": [],
   "source": [
    "print('Fórmula de tarabalho: F.D')"
   ]
  },
  {
   "cell_type": "code",
   "execution_count": null,
   "id": "036347a6",
   "metadata": {},
   "outputs": [],
   "source": [
    "print('Fórmula de trabalho: F.D')"
   ]
  },
  {
   "cell_type": "code",
   "execution_count": null,
   "id": "6824e23d",
   "metadata": {},
   "outputs": [],
   "source": [
    "lista_convidados_marcao = []\n",
    "print(type(lista_convidados_marcao = []))"
   ]
  },
  {
   "cell_type": "code",
   "execution_count": null,
   "id": "83378655",
   "metadata": {},
   "outputs": [],
   "source": [
    "lista_convidados_marcao = []\n",
    "print(lista_convidados_marcao)"
   ]
  },
  {
   "cell_type": "code",
   "execution_count": null,
   "id": "99d5abab",
   "metadata": {},
   "outputs": [],
   "source": [
    "lista_convidados_marcao = ['Pedro Almada', 'Guilherme', 'Théo', 'Marcelo', 'Bernardo']\n",
    "print(lista_convidados_marcao)"
   ]
  },
  {
   "cell_type": "code",
   "execution_count": null,
   "id": "e1eebda5",
   "metadata": {},
   "outputs": [],
   "source": [
    "lista_convidados_marcao = ['Pedro Almada', 'Guilherme', 'Théo', 'Marcelo', 'Bernardo']\n",
    "print(lista_convidados_marcao[1])"
   ]
  },
  {
   "cell_type": "code",
   "execution_count": null,
   "id": "63286932",
   "metadata": {},
   "outputs": [],
   "source": [
    "lista_convidados_marcao = ['Pedro Almada', 'Guilherme', 'Théo', 'Marcelo', 'Bernardo']\n",
    "print(lista_convidados_marcao[0])"
   ]
  },
  {
   "cell_type": "code",
   "execution_count": null,
   "id": "2fd34ad6",
   "metadata": {},
   "outputs": [],
   "source": [
    "lista_convidados_marcao[0] = 'Pedro Almada'"
   ]
  },
  {
   "cell_type": "code",
   "execution_count": null,
   "id": "2f60bdb5",
   "metadata": {},
   "outputs": [],
   "source": [
    "lista_convidados_marcao[0] ='Pedro Almada'"
   ]
  },
  {
   "cell_type": "code",
   "execution_count": null,
   "id": "fea791bd",
   "metadata": {},
   "outputs": [],
   "source": [
    "lista_convidados_marcao[1] = 'Pedro Almada'"
   ]
  },
  {
   "cell_type": "code",
   "execution_count": 1,
   "id": "0c9d2d8a",
   "metadata": {},
   "outputs": [
    {
     "ename": "NameError",
     "evalue": "name 'lista_convidados_marcao' is not defined",
     "output_type": "error",
     "traceback": [
      "\u001b[1;31m---------------------------------------------------------------------------\u001b[0m",
      "\u001b[1;31mNameError\u001b[0m                                 Traceback (most recent call last)",
      "\u001b[1;32m<ipython-input-1-60cf0d4ef235>\u001b[0m in \u001b[0;36m<module>\u001b[1;34m\u001b[0m\n\u001b[1;32m----> 1\u001b[1;33m \u001b[0mlista_convidados_marcao\u001b[0m\u001b[1;33m[\u001b[0m\u001b[1;36m0\u001b[0m\u001b[1;33m]\u001b[0m \u001b[1;33m=\u001b[0m \u001b[1;34m'Guilherme'\u001b[0m\u001b[1;33m\u001b[0m\u001b[1;33m\u001b[0m\u001b[0m\n\u001b[0m",
      "\u001b[1;31mNameError\u001b[0m: name 'lista_convidados_marcao' is not defined"
     ]
    }
   ],
   "source": [
    "lista_convidados_marcao[0] = 'Guilherme'"
   ]
  },
  {
   "cell_type": "code",
   "execution_count": 2,
   "id": "a94d04e4",
   "metadata": {},
   "outputs": [
    {
     "ename": "NameError",
     "evalue": "name 'lista_convidados_marcao' is not defined",
     "output_type": "error",
     "traceback": [
      "\u001b[1;31m---------------------------------------------------------------------------\u001b[0m",
      "\u001b[1;31mNameError\u001b[0m                                 Traceback (most recent call last)",
      "\u001b[1;32m<ipython-input-2-a02d19d96093>\u001b[0m in \u001b[0;36m<module>\u001b[1;34m\u001b[0m\n\u001b[1;32m----> 1\u001b[1;33m \u001b[0mlista_convidados_marcao\u001b[0m\u001b[1;33m.\u001b[0m\u001b[0mappend\u001b[0m\u001b[1;33m(\u001b[0m\u001b[1;34m'Théo'\u001b[0m\u001b[1;33m)\u001b[0m\u001b[1;33m\u001b[0m\u001b[1;33m\u001b[0m\u001b[0m\n\u001b[0m",
      "\u001b[1;31mNameError\u001b[0m: name 'lista_convidados_marcao' is not defined"
     ]
    }
   ],
   "source": [
    "lista_convidados_marcao.append('Théo')"
   ]
  },
  {
   "cell_type": "code",
   "execution_count": null,
   "id": "9abea6d9",
   "metadata": {},
   "outputs": [],
   "source": [
    "print(lista_convidados_marcao)\n",
    "del lista_convidados_marcao[3]      "
   ]
  }
 ],
 "metadata": {
  "kernelspec": {
   "display_name": "Python 3",
   "language": "python",
   "name": "python3"
  },
  "language_info": {
   "codemirror_mode": {
    "name": "ipython",
    "version": 3
   },
   "file_extension": ".py",
   "mimetype": "text/x-python",
   "name": "python",
   "nbconvert_exporter": "python",
   "pygments_lexer": "ipython3",
   "version": "3.8.8"
  }
 },
 "nbformat": 4,
 "nbformat_minor": 5
}
