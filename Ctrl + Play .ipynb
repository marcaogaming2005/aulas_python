{
 "cells": [
  {
   "cell_type": "code",
   "execution_count": 3,
   "id": "eba28ba2",
   "metadata": {},
   "outputs": [
    {
     "ename": "SyntaxError",
     "evalue": "invalid syntax (<ipython-input-3-192bb926e37f>, line 7)",
     "output_type": "error",
     "traceback": [
      "\u001b[1;36m  File \u001b[1;32m\"<ipython-input-3-192bb926e37f>\"\u001b[1;36m, line \u001b[1;32m7\u001b[0m\n\u001b[1;33m    return = 1\u001b[0m\n\u001b[1;37m           ^\u001b[0m\n\u001b[1;31mSyntaxError\u001b[0m\u001b[1;31m:\u001b[0m invalid syntax\n"
     ]
    }
   ],
   "source": [
    "#Definindo \n",
    "def fatorial(número):\n",
    "    multiplicacao = 0\n",
    "    \n",
    "    #Verfica se o número chegou a 1\n",
    "    if numero == 1:\n",
    "        return = 1\n",
    "    else:\n",
    "        return numero * fatorial(número-1)\n",
    "    #Chama a função e imprimi o valor que sair do fatorial\n",
    "    print(fatorial(20))\n",
    "        "
   ]
  },
  {
   "cell_type": "code",
   "execution_count": 4,
   "id": "6b705c41",
   "metadata": {},
   "outputs": [
    {
     "ename": "SyntaxError",
     "evalue": "invalid syntax (<ipython-input-4-ecc4d7a5dd18>, line 1)",
     "output_type": "error",
     "traceback": [
      "\u001b[1;36m  File \u001b[1;32m\"<ipython-input-4-ecc4d7a5dd18>\"\u001b[1;36m, line \u001b[1;32m1\u001b[0m\n\u001b[1;33m    função fatorial 100% verdadeira fatorial de 1 a 1\u001b[0m\n\u001b[1;37m           ^\u001b[0m\n\u001b[1;31mSyntaxError\u001b[0m\u001b[1;31m:\u001b[0m invalid syntax\n"
     ]
    }
   ],
   "source": [
    "função fatorial 100% verdadeira fatorial de 1 a 1\n"
   ]
  },
  {
   "cell_type": "code",
   "execution_count": 5,
   "id": "2a835697",
   "metadata": {},
   "outputs": [
    {
     "name": "stdout",
     "output_type": "stream",
     "text": [
      "Factorial of 5 is 120\n"
     ]
    }
   ],
   "source": [
    "def factorial(num): \n",
    "    if num < 0: \n",
    "        print(\"Factorial of negative num does not exist\")\n",
    "\n",
    "    elif num == 0: \n",
    "        return 1\n",
    "        \n",
    "    else: \n",
    "        fact = 1\n",
    "        while(num > 1): \n",
    "            fact *= num \n",
    "            num -= 1\n",
    "        return fact \n",
    "\n",
    "num = 5; \n",
    "\n",
    "print(\"Factorial of\",num,\"is\", factorial(num)) "
   ]
  },
  {
   "cell_type": "code",
   "execution_count": 6,
   "id": "96110976",
   "metadata": {},
   "outputs": [
    {
     "ename": "SyntaxError",
     "evalue": "invalid syntax (<ipython-input-6-e099dce719dd>, line 1)",
     "output_type": "error",
     "traceback": [
      "\u001b[1;36m  File \u001b[1;32m\"<ipython-input-6-e099dce719dd>\"\u001b[1;36m, line \u001b[1;32m1\u001b[0m\n\u001b[1;33m    n! = n * (n-1) * (n-2) * ... * 3 * 2 * 1\u001b[0m\n\u001b[1;37m     ^\u001b[0m\n\u001b[1;31mSyntaxError\u001b[0m\u001b[1;31m:\u001b[0m invalid syntax\n"
     ]
    }
   ],
   "source": []
  },
  {
   "cell_type": "code",
   "execution_count": 7,
   "id": "a53716c9",
   "metadata": {},
   "outputs": [
    {
     "name": "stdout",
     "output_type": "stream",
     "text": [
      "Factorial of 5 is 120\n"
     ]
    }
   ],
   "source": [
    "def factorial(num): \n",
    "    if num < 0: \n",
    "        print(\"Factorial of negative num does not exist\")\n",
    "\n",
    "    elif num == 0: \n",
    "        return 1\n",
    "        \n",
    "    else: \n",
    "        fact = 1\n",
    "        while(num > 1): \n",
    "            fact *= num \n",
    "            num -= 1\n",
    "        return fact \n",
    "\n",
    "num = 5; \n",
    "\n",
    "print(\"Factorial of\",num,\"is\", factorial(num))"
   ]
  },
  {
   "cell_type": "code",
   "execution_count": 8,
   "id": "259d7f5a",
   "metadata": {},
   "outputs": [
    {
     "name": "stdout",
     "output_type": "stream",
     "text": [
      "Factorial of 10 is 3628800\n"
     ]
    }
   ],
   "source": [
    "def factorial(num): \n",
    "    if num < 0: \n",
    "        print(\"Factorial of negative num does not exist\")\n",
    "\n",
    "    elif num == 0: \n",
    "        return 1\n",
    "        \n",
    "    else: \n",
    "        fact = 1\n",
    "        while(num > 1): \n",
    "            fact *= num \n",
    "            num -= 1\n",
    "        return fact \n",
    "\n",
    "num = 10; \n",
    "\n",
    "print(\"Factorial of\",num,\"is\", factorial(num))"
   ]
  },
  {
   "cell_type": "code",
   "execution_count": 9,
   "id": "48f8c935",
   "metadata": {},
   "outputs": [
    {
     "name": "stdout",
     "output_type": "stream",
     "text": [
      "Factorial of 12 is 479001600\n"
     ]
    }
   ],
   "source": [
    "def factorial(num): \n",
    "    if num < 0: \n",
    "        print(\"Factorial of negative num does not exist\")\n",
    "\n",
    "    elif num == 0: \n",
    "        return 1\n",
    "        \n",
    "    else: \n",
    "        fact = 1\n",
    "        while(num > 1): \n",
    "            fact *= num \n",
    "            num -= 1\n",
    "        return fact \n",
    "\n",
    "num = 12; \n",
    "\n",
    "print(\"Factorial of\",num,\"is\", factorial(num))"
   ]
  },
  {
   "cell_type": "code",
   "execution_count": 10,
   "id": "566cebe5",
   "metadata": {},
   "outputs": [
    {
     "name": "stdout",
     "output_type": "stream",
     "text": [
      "Factorial of 30 is 265252859812191058636308480000000\n"
     ]
    }
   ],
   "source": [
    "def factorial(num): \n",
    "    if num < 0: \n",
    "        print(\"Factorial of negative num does not exist\")\n",
    "\n",
    "    elif num == 0: \n",
    "        return 1\n",
    "        \n",
    "    else: \n",
    "        fact = 1\n",
    "        while(num > 1): \n",
    "            fact *= num \n",
    "            num -= 1\n",
    "        return fact \n",
    "\n",
    "num = 30; \n",
    "\n",
    "print(\"Factorial of\",num,\"is\", factorial(num))"
   ]
  },
  {
   "cell_type": "code",
   "execution_count": 11,
   "id": "2de12afe",
   "metadata": {},
   "outputs": [
    {
     "name": "stdout",
     "output_type": "stream",
     "text": [
      "Factorial of 2 is 2\n"
     ]
    }
   ],
   "source": [
    "def factorial(num): \n",
    "    if num < 0: \n",
    "        print(\"Factorial of negative num does not exist\")\n",
    "\n",
    "    elif num == 0: \n",
    "        return 1\n",
    "        \n",
    "    else: \n",
    "        fact = 1\n",
    "        while(num > 1): \n",
    "            fact *= num \n",
    "            num -= 1\n",
    "        return fact \n",
    "\n",
    "num = 2; \n",
    "\n",
    "print(\"Factorial of\",num,\"is\", factorial(num))"
   ]
  },
  {
   "cell_type": "code",
   "execution_count": 1,
   "id": "5448ff27",
   "metadata": {},
   "outputs": [
    {
     "name": "stdout",
     "output_type": "stream",
     "text": [
      "['Sonic', 'Goku', 'Naruto', 'Shadow', 'Vegeta', 'Flash', 'Superboy Prime', 'Michael Jackson']\n"
     ]
    }
   ],
   "source": [
    "lista = ['Sonic', 'Goku', 'Naruto', 'Shadow', 'Vegeta', 'Flash', 'Superboy Prime', 'Michael Jackson']\n",
    "print(lista)"
   ]
  },
  {
   "cell_type": "code",
   "execution_count": 2,
   "id": "ef5c6a96",
   "metadata": {},
   "outputs": [
    {
     "name": "stdout",
     "output_type": "stream",
     "text": [
      "Digite um valor: 5\n",
      "Digite um outro valor: 14\n"
     ]
    }
   ],
   "source": [
    "#Definindo minha função soma\n",
    "def soma(n1, n2):\n",
    "    soma = n1 + n2\n",
    "    return soma\n",
    "\n",
    "numero1 = int(input(\"Digite um valor: \"))\n",
    "numero2 = int(input(\"Digite um outro valor: \"))"
   ]
  },
  {
   "cell_type": "code",
   "execution_count": 4,
   "id": "57895128",
   "metadata": {},
   "outputs": [
    {
     "name": "stdout",
     "output_type": "stream",
     "text": [
      "Digite um valor: 10\n",
      "Digite um outro valor: 20\n",
      "30\n",
      "-10\n",
      "200\n",
      "0.5\n",
      "Digite o valor para ser o fatorial150\n",
      "57133839564458545904789328652610540031895535786011264182548375833179829124845398393126574488675311145377107878746854204162666250198684504466355949195922066574942592095735778929325357290444962472405416790722118445437122269675520000000000000000000000000000000000000\n"
     ]
    }
   ],
   "source": [
    "# Definindo minha função soma\n",
    "def soma(n1, n2):\n",
    "    soma = n1 + n2\n",
    "    return soma\n",
    "\n",
    "# Definindo minha função subtração\n",
    "def subtracao(n1, n2):\n",
    "    subtracao = n1 - n2\n",
    "    return subtracao\n",
    "\n",
    "# Definindo minha função multiplicação\n",
    "def mult(n1, n2):\n",
    "    multiplicacao = n1 * n2\n",
    "    return multiplicacao\n",
    "\n",
    "# Definindo minha função divisão\n",
    "def div(n1, n2):\n",
    "    divisao = n1 / n2\n",
    "    return divisao\n",
    "\n",
    "\n",
    "# Definindo minhas variaveis do tipo inteiro\n",
    "numero1 = int(input(\"Digite um valor: \"))\n",
    "numero2 = int(input(\"Digite um outro valor: \"))\n",
    "\n",
    "# Printando o resultado que minha função retorna\n",
    "print(soma(numero1,numero2))\n",
    "\n",
    "# Printando o resultado que minha função retorna\n",
    "print(subtracao(numero1,numero2))\n",
    "\n",
    "# Printando o resultado que minha função retorna\n",
    "print(mult(numero1,numero2))\n",
    "\n",
    "# Printando o resultado que minha função retorna\n",
    "print(div(numero1,numero2))\n",
    "\n",
    "#Definindo minha variavel do tipo inteiro para o fatorial\n",
    "numero3 = int(input(\"Digite o valor para ser o fatorial\"))\n",
    "\n",
    "#Definindo minha função recursiva fatorial\n",
    "def fatorial(numero3):\n",
    "    \n",
    "    #Verificando se o número é menor que 1 e retorna o número 1\n",
    "    if(numero3 < 1):\n",
    "        return 1\n",
    "    else:\n",
    "        #Número x a chamada da função que vai receber como parametro o próprio número - 1\n",
    "        return numero3 * fatorial(numero3 - 1)\n",
    "    \n",
    "print(fatorial(numero3))"
   ]
  },
  {
   "cell_type": "code",
   "execution_count": 17,
   "id": "67a54925",
   "metadata": {},
   "outputs": [
    {
     "name": "stdout",
     "output_type": "stream",
     "text": [
      "Overwriting listaCompras.txt\n"
     ]
    }
   ],
   "source": [
    "%%writefile listaCompras.txt\n",
    "Pão Francês\n",
    "Nutella\n",
    "Presunto\n",
    "Queijo Mussarella\n",
    "Torta Alemã\n",
    "Coca-Cola\n",
    "Suco de Laranja\n",
    "Picanha\n",
    "Arroz\n",
    "Pepsi\n",
    "Batata Frita\n",
    "Pão de Queijo\n",
    "Açaí"
   ]
  },
  {
   "cell_type": "code",
   "execution_count": 20,
   "id": "9cdab2af",
   "metadata": {},
   "outputs": [
    {
     "data": {
      "text/plain": [
       "'PÃ£o FrancÃªs\\nNutella\\nPresunto\\nQueijo Mussarella\\nTorta AlemÃ£\\nCoca-Cola\\nSuco de Laranja\\nPicanha\\nArroz\\nPepsi\\nBatata Frita\\nPÃ£o de Queijo\\nAÃ§aÃ\\xad\\n'"
      ]
     },
     "execution_count": 20,
     "metadata": {},
     "output_type": "execute_result"
    }
   ],
   "source": [
    "#Variavel que recebe os dados do meu arquivo\n",
    "arquivo = open('listaCompras.txt', 'r+') #open recebe dois parametros que são o nome do arquivo e a sua permissão\n",
    "#Lendo o arquivo\n",
    "arquivo.read()"
   ]
  },
  {
   "cell_type": "code",
   "execution_count": 13,
   "id": "0887b8d8",
   "metadata": {},
   "outputs": [
    {
     "ename": "TypeError",
     "evalue": "seek expected at least 1 argument, got 0",
     "output_type": "error",
     "traceback": [
      "\u001b[1;31m---------------------------------------------------------------------------\u001b[0m",
      "\u001b[1;31mTypeError\u001b[0m                                 Traceback (most recent call last)",
      "\u001b[1;32m<ipython-input-13-61375603002e>\u001b[0m in \u001b[0;36m<module>\u001b[1;34m\u001b[0m\n\u001b[0;32m      3\u001b[0m \u001b[1;33m\u001b[0m\u001b[0m\n\u001b[0;32m      4\u001b[0m \u001b[1;31m#Procura o inicio do arquivo\u001b[0m\u001b[1;33m\u001b[0m\u001b[1;33m\u001b[0m\u001b[1;33m\u001b[0m\u001b[0m\n\u001b[1;32m----> 5\u001b[1;33m \u001b[0marquivo\u001b[0m\u001b[1;33m.\u001b[0m\u001b[0mseek\u001b[0m\u001b[1;33m(\u001b[0m\u001b[1;33m)\u001b[0m\u001b[1;33m\u001b[0m\u001b[1;33m\u001b[0m\u001b[0m\n\u001b[0m\u001b[0;32m      6\u001b[0m \u001b[1;33m\u001b[0m\u001b[0m\n\u001b[0;32m      7\u001b[0m \u001b[1;31m#Lendo novamente o arquivo\u001b[0m\u001b[1;33m\u001b[0m\u001b[1;33m\u001b[0m\u001b[1;33m\u001b[0m\u001b[0m\n",
      "\u001b[1;31mTypeError\u001b[0m: seek expected at least 1 argument, got 0"
     ]
    }
   ],
   "source": [
    "#Lendo novamente o arquivo\n",
    "arquivo.read()\n",
    "\n",
    "#Procura o inicio do arquivo\n",
    "arquivo.seek()\n",
    "\n",
    "#Lendo novamente o arquivo\n",
    "arquivo.read()\n"
   ]
  },
  {
   "cell_type": "code",
   "execution_count": 19,
   "id": "62a77d1b",
   "metadata": {},
   "outputs": [
    {
     "data": {
      "text/plain": [
       "'Ã£o FrancÃªs\\nNutella\\nPresunto\\nQueijo Mussarella\\nTorta AlemÃ£\\nCoca-Cola\\nSuco de Laranja\\nPicanha\\nArroz\\nPepsi\\nBatata Frita\\nPÃ£o de Queijo\\nAÃ§aÃ\\xad\\n'"
      ]
     },
     "execution_count": 19,
     "metadata": {},
     "output_type": "execute_result"
    }
   ],
   "source": [
    "#Procura o inicio do arquivo\n",
    "arquivo.seek(1)\n",
    "\n",
    "#Lendo novamente o arquivo\n",
    "arquivo.read()\n"
   ]
  },
  {
   "cell_type": "code",
   "execution_count": 18,
   "id": "44beadf7",
   "metadata": {},
   "outputs": [
    {
     "name": "stdout",
     "output_type": "stream",
     "text": [
      "Ã£o FrancÃªs\n",
      "\n",
      "Nutella\n",
      "\n",
      "Presunto\n",
      "\n",
      "Queijo Mussarella\n",
      "\n",
      "Torta AlemÃ£\n",
      "\n",
      "Coca-Cola\n",
      "\n",
      "Suco de Laranja\n",
      "\n",
      "Picanha\n",
      "\n",
      "Arroz\n",
      "\n",
      "Pepsi\n",
      "\n",
      "Batata Frita\n",
      "\n",
      "PÃ£o de Queijo\n",
      "\n",
      "AÃ§aÃ­\n",
      "\n"
     ]
    }
   ],
   "source": [
    "arquivo.seek(1)\n",
    "for linha in arquivo:\n",
    "    print(linha)"
   ]
  },
  {
   "cell_type": "code",
   "execution_count": 21,
   "id": "ab7fef70",
   "metadata": {},
   "outputs": [
    {
     "data": {
      "text/plain": [
       "'PÃ£o FrancÃªs\\nNutella\\nPresunto\\nQueijo Mussarella\\nTorta AlemÃ£\\nCoca-Cola\\nSuco de Laranja\\nPicanha\\nArroz\\nPepsi\\nBatata Frita\\nPÃ£o de Queijo\\nAÃ§aÃ\\xad\\n'"
      ]
     },
     "execution_count": 21,
     "metadata": {},
     "output_type": "execute_result"
    }
   ],
   "source": [
    "#Variavel que recebe os dados do meu arquivo\n",
    "arquivo = open('listaCompras.txt', 'r+') #open recebe dois parametros que são o nome do arquivo e a sua permissão\n",
    "#Lendo o arquivo\n",
    "arquivo.read()"
   ]
  },
  {
   "cell_type": "code",
   "execution_count": 22,
   "id": "5aa89491",
   "metadata": {},
   "outputs": [
    {
     "ename": "TypeError",
     "evalue": "write() takes exactly one argument (0 given)",
     "output_type": "error",
     "traceback": [
      "\u001b[1;31m---------------------------------------------------------------------------\u001b[0m",
      "\u001b[1;31mTypeError\u001b[0m                                 Traceback (most recent call last)",
      "\u001b[1;32m<ipython-input-22-1d78ee959a47>\u001b[0m in \u001b[0;36m<module>\u001b[1;34m\u001b[0m\n\u001b[0;32m      5\u001b[0m \u001b[1;33m\u001b[0m\u001b[0m\n\u001b[0;32m      6\u001b[0m \u001b[1;31m#Escrevendo o arquivo\u001b[0m\u001b[1;33m\u001b[0m\u001b[1;33m\u001b[0m\u001b[1;33m\u001b[0m\u001b[0m\n\u001b[1;32m----> 7\u001b[1;33m \u001b[0marquivo\u001b[0m\u001b[1;33m.\u001b[0m\u001b[0mwrite\u001b[0m\u001b[1;33m(\u001b[0m\u001b[1;33m)\u001b[0m\u001b[1;33m\u001b[0m\u001b[1;33m\u001b[0m\u001b[0m\n\u001b[0m",
      "\u001b[1;31mTypeError\u001b[0m: write() takes exactly one argument (0 given)"
     ]
    }
   ],
   "source": [
    "#Variavel que recebe os dados do meu arquivo\n",
    "arquivo = open('listaCompras.txt', 'r+') #open recebe dois parametros que são o nome do arquivo e a sua permissão\n",
    "#Lendo o arquivo\n",
    "arquivo.read()"
   ]
  },
  {
   "cell_type": "code",
   "execution_count": 23,
   "id": "5c732b1d",
   "metadata": {},
   "outputs": [
    {
     "ename": "TypeError",
     "evalue": "write() argument must be str, not int",
     "output_type": "error",
     "traceback": [
      "\u001b[1;31m---------------------------------------------------------------------------\u001b[0m",
      "\u001b[1;31mTypeError\u001b[0m                                 Traceback (most recent call last)",
      "\u001b[1;32m<ipython-input-23-78cd3574cd13>\u001b[0m in \u001b[0;36m<module>\u001b[1;34m\u001b[0m\n\u001b[0;32m      5\u001b[0m \u001b[1;33m\u001b[0m\u001b[0m\n\u001b[0;32m      6\u001b[0m \u001b[1;31m#Escrevendo o arquivo\u001b[0m\u001b[1;33m\u001b[0m\u001b[1;33m\u001b[0m\u001b[1;33m\u001b[0m\u001b[0m\n\u001b[1;32m----> 7\u001b[1;33m \u001b[0marquivo\u001b[0m\u001b[1;33m.\u001b[0m\u001b[0mwrite\u001b[0m\u001b[1;33m(\u001b[0m\u001b[1;36m2\u001b[0m\u001b[1;33m)\u001b[0m\u001b[1;33m\u001b[0m\u001b[1;33m\u001b[0m\u001b[0m\n\u001b[0m",
      "\u001b[1;31mTypeError\u001b[0m: write() argument must be str, not int"
     ]
    }
   ],
   "source": [
    "#Variavel que recebe os dados do meu arquivo\n",
    "arquivo = open('listaCompras.txt', 'r+') #open recebe dois parametros que são o nome do arquivo e a sua permissão\n",
    "#Lendo o arquivo\n",
    "arquivo.read()\n",
    "\n",
    "#Escrevendo o arquivo\n",
    "arquivo.write(2)"
   ]
  },
  {
   "cell_type": "code",
   "execution_count": 28,
   "id": "ef257dcc",
   "metadata": {},
   "outputs": [
    {
     "ename": "TypeError",
     "evalue": "'int' object is not iterable",
     "output_type": "error",
     "traceback": [
      "\u001b[1;31m---------------------------------------------------------------------------\u001b[0m",
      "\u001b[1;31mTypeError\u001b[0m                                 Traceback (most recent call last)",
      "\u001b[1;32m<ipython-input-28-e580931bc85e>\u001b[0m in \u001b[0;36m<module>\u001b[1;34m\u001b[0m\n\u001b[0;32m      5\u001b[0m \u001b[1;33m\u001b[0m\u001b[0m\n\u001b[0;32m      6\u001b[0m \u001b[0marquivo\u001b[0m \u001b[1;33m=\u001b[0m \u001b[0mopen\u001b[0m\u001b[1;33m(\u001b[0m\u001b[1;34m'listaCompras.txt'\u001b[0m\u001b[1;33m,\u001b[0m \u001b[1;34m'w'\u001b[0m\u001b[1;33m)\u001b[0m\u001b[1;33m\u001b[0m\u001b[1;33m\u001b[0m\u001b[0m\n\u001b[1;32m----> 7\u001b[1;33m \u001b[0marquivo\u001b[0m\u001b[1;33m.\u001b[0m\u001b[0mwritelines\u001b[0m\u001b[1;33m(\u001b[0m\u001b[1;36m2\u001b[0m\u001b[1;33m)\u001b[0m\u001b[1;33m\u001b[0m\u001b[1;33m\u001b[0m\u001b[0m\n\u001b[0m\u001b[0;32m      8\u001b[0m \u001b[0marquivo\u001b[0m\u001b[1;33m.\u001b[0m\u001b[0mclose\u001b[0m\u001b[1;33m(\u001b[0m\u001b[1;36m1\u001b[0m\u001b[1;33m)\u001b[0m\u001b[1;33m\u001b[0m\u001b[1;33m\u001b[0m\u001b[0m\n",
      "\u001b[1;31mTypeError\u001b[0m: 'int' object is not iterable"
     ]
    }
   ],
   "source": [
    "#Variavel que recebe os dados do meu arquivo\n",
    "arquivo = open('listaCompras.txt', 'r+') #open recebe dois parametros que são o nome do arquivo e a sua permissão\n",
    "#Lendo o arquivo\n",
    "arquivo.read()\n",
    "\n",
    "arquivo = open('listaCompras.txt', 'w')\n",
    "arquivo.writelines(2)\n",
    "arquivo.close(1)"
   ]
  },
  {
   "cell_type": "code",
   "execution_count": 29,
   "id": "df1dd1bf",
   "metadata": {},
   "outputs": [
    {
     "ename": "TypeError",
     "evalue": "'int' object is not iterable",
     "output_type": "error",
     "traceback": [
      "\u001b[1;31m---------------------------------------------------------------------------\u001b[0m",
      "\u001b[1;31mTypeError\u001b[0m                                 Traceback (most recent call last)",
      "\u001b[1;32m<ipython-input-29-d543d9cc707f>\u001b[0m in \u001b[0;36m<module>\u001b[1;34m\u001b[0m\n\u001b[0;32m      1\u001b[0m \u001b[0marquivo\u001b[0m \u001b[1;33m=\u001b[0m \u001b[0mopen\u001b[0m\u001b[1;33m(\u001b[0m\u001b[1;34m'listaCompras.txt'\u001b[0m\u001b[1;33m,\u001b[0m \u001b[1;34m'w'\u001b[0m\u001b[1;33m)\u001b[0m\u001b[1;33m\u001b[0m\u001b[1;33m\u001b[0m\u001b[0m\n\u001b[1;32m----> 2\u001b[1;33m \u001b[0marquivo\u001b[0m\u001b[1;33m.\u001b[0m\u001b[0mwritelines\u001b[0m\u001b[1;33m(\u001b[0m\u001b[1;36m2\u001b[0m\u001b[1;33m)\u001b[0m\u001b[1;33m\u001b[0m\u001b[1;33m\u001b[0m\u001b[0m\n\u001b[0m\u001b[0;32m      3\u001b[0m \u001b[0marquivo\u001b[0m\u001b[1;33m.\u001b[0m\u001b[0mclose\u001b[0m\u001b[1;33m(\u001b[0m\u001b[1;36m1\u001b[0m\u001b[1;33m)\u001b[0m\u001b[1;33m\u001b[0m\u001b[1;33m\u001b[0m\u001b[0m\n",
      "\u001b[1;31mTypeError\u001b[0m: 'int' object is not iterable"
     ]
    }
   ],
   "source": [
    "arquivo = open('listaCompras.txt', 'w')\n",
    "arquivo.writelines(2)\n",
    "arquivo.close(1)"
   ]
  },
  {
   "cell_type": "code",
   "execution_count": 1,
   "id": "884ffb24",
   "metadata": {},
   "outputs": [
    {
     "ename": "TypeError",
     "evalue": "write() takes exactly one argument (2 given)",
     "output_type": "error",
     "traceback": [
      "\u001b[1;31m---------------------------------------------------------------------------\u001b[0m",
      "\u001b[1;31mTypeError\u001b[0m                                 Traceback (most recent call last)",
      "\u001b[1;32m<ipython-input-1-3a3d41ba8d2f>\u001b[0m in \u001b[0;36m<module>\u001b[1;34m\u001b[0m\n\u001b[0;32m      1\u001b[0m \u001b[1;32mwith\u001b[0m \u001b[0mopen\u001b[0m\u001b[1;33m(\u001b[0m\u001b[1;34m'listaCompras.txt'\u001b[0m\u001b[1;33m,\u001b[0m \u001b[1;34m'w'\u001b[0m\u001b[1;33m)\u001b[0m \u001b[1;32mas\u001b[0m \u001b[0mCompras\u001b[0m\u001b[1;33m:\u001b[0m\u001b[1;33m\u001b[0m\u001b[1;33m\u001b[0m\u001b[0m\n\u001b[1;32m----> 2\u001b[1;33m     \u001b[0mCompras\u001b[0m\u001b[1;33m.\u001b[0m\u001b[0mwrite\u001b[0m\u001b[1;33m(\u001b[0m\u001b[1;34m'Pão Francês'\u001b[0m\u001b[1;33m,\u001b[0m\u001b[1;34m'Nutella'\u001b[0m\u001b[1;33m)\u001b[0m\u001b[1;33m\u001b[0m\u001b[1;33m\u001b[0m\u001b[0m\n\u001b[0m\u001b[0;32m      3\u001b[0m     \u001b[0mCompras\u001b[0m\u001b[1;33m.\u001b[0m\u001b[0mwrite\u001b[0m\u001b[1;33m(\u001b[0m\u001b[1;34m'Coca-Cola'\u001b[0m\u001b[1;33m,\u001b[0m \u001b[1;34m'Presunto'\u001b[0m\u001b[1;33m)\u001b[0m\u001b[1;33m\u001b[0m\u001b[1;33m\u001b[0m\u001b[0m\n",
      "\u001b[1;31mTypeError\u001b[0m: write() takes exactly one argument (2 given)"
     ]
    }
   ],
   "source": [
    "with open('listaCompras.txt', 'w') as Compras:\n",
    "    Compras.write('Pão Francês','Nutella')\n",
    "    Compras.write('Coca-Cola', 'Presunto')"
   ]
  },
  {
   "cell_type": "code",
   "execution_count": 2,
   "id": "5fc533b6",
   "metadata": {},
   "outputs": [
    {
     "ename": "TypeError",
     "evalue": "write() takes exactly one argument (2 given)",
     "output_type": "error",
     "traceback": [
      "\u001b[1;31m---------------------------------------------------------------------------\u001b[0m",
      "\u001b[1;31mTypeError\u001b[0m                                 Traceback (most recent call last)",
      "\u001b[1;32m<ipython-input-2-3a3d41ba8d2f>\u001b[0m in \u001b[0;36m<module>\u001b[1;34m\u001b[0m\n\u001b[0;32m      1\u001b[0m \u001b[1;32mwith\u001b[0m \u001b[0mopen\u001b[0m\u001b[1;33m(\u001b[0m\u001b[1;34m'listaCompras.txt'\u001b[0m\u001b[1;33m,\u001b[0m \u001b[1;34m'w'\u001b[0m\u001b[1;33m)\u001b[0m \u001b[1;32mas\u001b[0m \u001b[0mCompras\u001b[0m\u001b[1;33m:\u001b[0m\u001b[1;33m\u001b[0m\u001b[1;33m\u001b[0m\u001b[0m\n\u001b[1;32m----> 2\u001b[1;33m     \u001b[0mCompras\u001b[0m\u001b[1;33m.\u001b[0m\u001b[0mwrite\u001b[0m\u001b[1;33m(\u001b[0m\u001b[1;34m'Pão Francês'\u001b[0m\u001b[1;33m,\u001b[0m\u001b[1;34m'Nutella'\u001b[0m\u001b[1;33m)\u001b[0m\u001b[1;33m\u001b[0m\u001b[1;33m\u001b[0m\u001b[0m\n\u001b[0m\u001b[0;32m      3\u001b[0m     \u001b[0mCompras\u001b[0m\u001b[1;33m.\u001b[0m\u001b[0mwrite\u001b[0m\u001b[1;33m(\u001b[0m\u001b[1;34m'Coca-Cola'\u001b[0m\u001b[1;33m,\u001b[0m \u001b[1;34m'Presunto'\u001b[0m\u001b[1;33m)\u001b[0m\u001b[1;33m\u001b[0m\u001b[1;33m\u001b[0m\u001b[0m\n",
      "\u001b[1;31mTypeError\u001b[0m: write() takes exactly one argument (2 given)"
     ]
    }
   ],
   "source": [
    "with open('listaCompras.txt', 'w') as Compras:\n",
    "    Compras.write('Pão Francês','Nutella')\n",
    "    Compras.write('Coca-Cola', 'Presunto')"
   ]
  },
  {
   "cell_type": "code",
   "execution_count": 3,
   "id": "d25fe407",
   "metadata": {},
   "outputs": [],
   "source": [
    "arquivo = open('Compras', 'w')\n",
    "arquivo.close()"
   ]
  },
  {
   "cell_type": "code",
   "execution_count": null,
   "id": "c17c304e",
   "metadata": {},
   "outputs": [],
   "source": []
  }
 ],
 "metadata": {
  "kernelspec": {
   "display_name": "Python 3",
   "language": "python",
   "name": "python3"
  },
  "language_info": {
   "codemirror_mode": {
    "name": "ipython",
    "version": 3
   },
   "file_extension": ".py",
   "mimetype": "text/x-python",
   "name": "python",
   "nbconvert_exporter": "python",
   "pygments_lexer": "ipython3",
   "version": "3.8.8"
  }
 },
 "nbformat": 4,
 "nbformat_minor": 5
}
