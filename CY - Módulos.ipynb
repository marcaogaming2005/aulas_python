{
 "cells": [
  {
   "cell_type": "code",
   "execution_count": 2,
   "id": "1aa6c3f7",
   "metadata": {},
   "outputs": [
    {
     "name": "stdout",
     "output_type": "stream",
     "text": [
      "256.0\n"
     ]
    }
   ],
   "source": [
    "import math\n",
    "\n",
    "print(math.pow(2, 8))"
   ]
  },
  {
   "cell_type": "code",
   "execution_count": 3,
   "id": "e30cc7ff",
   "metadata": {},
   "outputs": [
    {
     "name": "stdout",
     "output_type": "stream",
     "text": [
      "Arredonda para cima 3\n",
      "Arredonda para baixo 2\n",
      "['__doc__', '__loader__', '__name__', '__package__', '__spec__', 'acos', 'acosh', 'asin', 'asinh', 'atan', 'atan2', 'atanh', 'ceil', 'comb', 'copysign', 'cos', 'cosh', 'degrees', 'dist', 'e', 'erf', 'erfc', 'exp', 'expm1', 'fabs', 'factorial', 'floor', 'fmod', 'frexp', 'fsum', 'gamma', 'gcd', 'hypot', 'inf', 'isclose', 'isfinite', 'isinf', 'isnan', 'isqrt', 'ldexp', 'lgamma', 'log', 'log10', 'log1p', 'log2', 'modf', 'nan', 'perm', 'pi', 'pow', 'prod', 'radians', 'remainder', 'sin', 'sinh', 'sqrt', 'tan', 'tanh', 'tau', 'trunc']\n"
     ]
    }
   ],
   "source": [
    "import math\n",
    "\n",
    "# print(math.pow(2, 8))\n",
    "\n",
    "print(\"Arredonda para cima\", math.ceil(2.8))\n",
    "print(\"Arredonda para baixo\", math.trunc(2.8))\n",
    "\n",
    "print(dir(math))"
   ]
  },
  {
   "cell_type": "code",
   "execution_count": 4,
   "id": "83d1129f",
   "metadata": {},
   "outputs": [
    {
     "ename": "SyntaxError",
     "evalue": "invalid syntax (<ipython-input-4-e981a061802a>, line 2)",
     "output_type": "error",
     "traceback": [
      "\u001b[1;36m  File \u001b[1;32m\"<ipython-input-4-e981a061802a>\"\u001b[1;36m, line \u001b[1;32m2\u001b[0m\n\u001b[1;33m    return numero + numero 2\u001b[0m\n\u001b[1;37m                           ^\u001b[0m\n\u001b[1;31mSyntaxError\u001b[0m\u001b[1;31m:\u001b[0m invalid syntax\n"
     ]
    }
   ],
   "source": [
    "def soma(numero, numero2):\n",
    "    return numero + numero 2"
   ]
  },
  {
   "cell_type": "code",
   "execution_count": 5,
   "id": "2ed9d35a",
   "metadata": {},
   "outputs": [
    {
     "ename": "SyntaxError",
     "evalue": "invalid syntax (<ipython-input-5-49c5d116a371>, line 1)",
     "output_type": "error",
     "traceback": [
      "\u001b[1;36m  File \u001b[1;32m\"<ipython-input-5-49c5d116a371>\"\u001b[1;36m, line \u001b[1;32m1\u001b[0m\n\u001b[1;33m    def soma(24, 24):\u001b[0m\n\u001b[1;37m             ^\u001b[0m\n\u001b[1;31mSyntaxError\u001b[0m\u001b[1;31m:\u001b[0m invalid syntax\n"
     ]
    }
   ],
   "source": [
    "def soma(24, 24):\n",
    "    return 24 + 24 2"
   ]
  },
  {
   "cell_type": "code",
   "execution_count": 6,
   "id": "ebbff9cc",
   "metadata": {},
   "outputs": [
    {
     "ename": "SyntaxError",
     "evalue": "invalid syntax (<ipython-input-6-92561e9a8a9a>, line 1)",
     "output_type": "error",
     "traceback": [
      "\u001b[1;36m  File \u001b[1;32m\"<ipython-input-6-92561e9a8a9a>\"\u001b[1;36m, line \u001b[1;32m1\u001b[0m\n\u001b[1;33m    def soma(24, 24):\u001b[0m\n\u001b[1;37m             ^\u001b[0m\n\u001b[1;31mSyntaxError\u001b[0m\u001b[1;31m:\u001b[0m invalid syntax\n"
     ]
    }
   ],
   "source": [
    "def soma(24, 24):\n",
    "    return 24 + 24"
   ]
  },
  {
   "cell_type": "code",
   "execution_count": 7,
   "id": "7425f4d9",
   "metadata": {},
   "outputs": [],
   "source": [
    "def soma(numero, numero2):\n",
    "    return numero + numero2"
   ]
  },
  {
   "cell_type": "code",
   "execution_count": 8,
   "id": "bea2d7e0",
   "metadata": {},
   "outputs": [
    {
     "ename": "SyntaxError",
     "evalue": "invalid syntax (<ipython-input-8-7cb63c41d8dc>, line 1)",
     "output_type": "error",
     "traceback": [
      "\u001b[1;36m  File \u001b[1;32m\"<ipython-input-8-7cb63c41d8dc>\"\u001b[1;36m, line \u001b[1;32m1\u001b[0m\n\u001b[1;33m    def soma(12, 24):\u001b[0m\n\u001b[1;37m             ^\u001b[0m\n\u001b[1;31mSyntaxError\u001b[0m\u001b[1;31m:\u001b[0m invalid syntax\n"
     ]
    }
   ],
   "source": [
    "def soma(12, 24):\n",
    "    return 12 + 24"
   ]
  },
  {
   "cell_type": "code",
   "execution_count": 9,
   "id": "d538a8cb",
   "metadata": {},
   "outputs": [],
   "source": [
    "def soma(numero, numero2):\n",
    "    return numero + numero2\n",
    "\n",
    "numero = 12\n",
    "numero2 = 24"
   ]
  },
  {
   "cell_type": "code",
   "execution_count": 16,
   "id": "10775f4d",
   "metadata": {},
   "outputs": [],
   "source": [
    "#Função de Soma\n",
    "def soma(x, y):\n",
    "    return x + y\n",
    "\n",
    "#Função de Subtração\n",
    "def sub(x, y):\n",
    "    return x - y\n",
    "\n",
    "#Função de Multiplicação\n",
    "def mult(x, y):\n",
    "    return x * y\n",
    "\n",
    "#Função de Divisão\n",
    "def div(x, y):\n",
    "    return x / y\n",
    "\n",
    "#Função de FatoriaL\n",
    "def  fatorial(x):\n",
    "    if x < 1:\n",
    "        return 1\n",
    "    else:\n",
    "        return x * fatorial(x-1)"
   ]
  },
  {
   "cell_type": "code",
   "execution_count": 17,
   "id": "94fb241a",
   "metadata": {},
   "outputs": [
    {
     "data": {
      "text/plain": [
       "30414093201713378043612608166064768844377641568960512000000000000"
      ]
     },
     "execution_count": 17,
     "metadata": {},
     "output_type": "execute_result"
    }
   ],
   "source": [
    "fatorial(50)"
   ]
  },
  {
   "cell_type": "code",
   "execution_count": 18,
   "id": "aed1a6fb",
   "metadata": {},
   "outputs": [
    {
     "data": {
      "text/plain": [
       "1307674368000"
      ]
     },
     "execution_count": 18,
     "metadata": {},
     "output_type": "execute_result"
    }
   ],
   "source": [
    "fatorial(15)"
   ]
  },
  {
   "cell_type": "code",
   "execution_count": 19,
   "id": "704f02fc",
   "metadata": {},
   "outputs": [
    {
     "data": {
      "text/plain": [
       "7"
      ]
     },
     "execution_count": 19,
     "metadata": {},
     "output_type": "execute_result"
    }
   ],
   "source": [
    "soma(2, 5)"
   ]
  },
  {
   "cell_type": "code",
   "execution_count": 20,
   "id": "1d93bfcc",
   "metadata": {},
   "outputs": [
    {
     "data": {
      "text/plain": [
       "225"
      ]
     },
     "execution_count": 20,
     "metadata": {},
     "output_type": "execute_result"
    }
   ],
   "source": [
    "mult(15, 15)"
   ]
  },
  {
   "cell_type": "code",
   "execution_count": 21,
   "id": "e0b92c29",
   "metadata": {},
   "outputs": [
    {
     "data": {
      "text/plain": [
       "10"
      ]
     },
     "execution_count": 21,
     "metadata": {},
     "output_type": "execute_result"
    }
   ],
   "source": [
    "sub(50, 40)"
   ]
  },
  {
   "cell_type": "code",
   "execution_count": 22,
   "id": "9162670f",
   "metadata": {},
   "outputs": [
    {
     "data": {
      "text/plain": [
       "45.0"
      ]
     },
     "execution_count": 22,
     "metadata": {},
     "output_type": "execute_result"
    }
   ],
   "source": [
    "div(90, 2)"
   ]
  },
  {
   "cell_type": "code",
   "execution_count": null,
   "id": "088dabdd",
   "metadata": {},
   "outputs": [],
   "source": []
  }
 ],
 "metadata": {
  "kernelspec": {
   "display_name": "Python 3",
   "language": "python",
   "name": "python3"
  },
  "language_info": {
   "codemirror_mode": {
    "name": "ipython",
    "version": 3
   },
   "file_extension": ".py",
   "mimetype": "text/x-python",
   "name": "python",
   "nbconvert_exporter": "python",
   "pygments_lexer": "ipython3",
   "version": "3.8.8"
  }
 },
 "nbformat": 4,
 "nbformat_minor": 5
}
