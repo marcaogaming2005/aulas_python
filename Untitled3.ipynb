{
 "cells": [
  {
   "cell_type": "code",
   "execution_count": 2,
   "id": "f725e8f6",
   "metadata": {},
   "outputs": [
    {
     "ename": "Terminator",
     "evalue": "",
     "output_type": "error",
     "traceback": [
      "\u001b[1;31m---------------------------------------------------------------------------\u001b[0m",
      "\u001b[1;31mTerminator\u001b[0m                                Traceback (most recent call last)",
      "\u001b[1;32m<ipython-input-2-b28d7ffd5408>\u001b[0m in \u001b[0;36m<module>\u001b[1;34m\u001b[0m\n\u001b[0;32m     12\u001b[0m \u001b[0mwn\u001b[0m\u001b[1;33m.\u001b[0m\u001b[0mbgcolor\u001b[0m\u001b[1;33m(\u001b[0m\u001b[1;34m\"lightgreen\"\u001b[0m\u001b[1;33m)\u001b[0m\u001b[1;33m\u001b[0m\u001b[1;33m\u001b[0m\u001b[0m\n\u001b[0;32m     13\u001b[0m \u001b[1;33m\u001b[0m\u001b[0m\n\u001b[1;32m---> 14\u001b[1;33m \u001b[0malex\u001b[0m \u001b[1;33m=\u001b[0m \u001b[0mturtle\u001b[0m\u001b[1;33m.\u001b[0m\u001b[0mTurtle\u001b[0m\u001b[1;33m(\u001b[0m\u001b[1;33m)\u001b[0m            \u001b[1;31m# cria alex\u001b[0m\u001b[1;33m\u001b[0m\u001b[1;33m\u001b[0m\u001b[0m\n\u001b[0m\u001b[0;32m     15\u001b[0m \u001b[0mdesenhaQuadrado\u001b[0m\u001b[1;33m(\u001b[0m\u001b[0malex\u001b[0m\u001b[1;33m,\u001b[0m \u001b[1;36m50\u001b[0m\u001b[1;33m)\u001b[0m         \u001b[1;31m# Chama a função para desenhar um quadrado\u001b[0m\u001b[1;33m\u001b[0m\u001b[1;33m\u001b[0m\u001b[0m\n\u001b[0;32m     16\u001b[0m \u001b[1;33m\u001b[0m\u001b[0m\n",
      "\u001b[1;32m~\\anaconda3\\lib\\turtle.py\u001b[0m in \u001b[0;36m__init__\u001b[1;34m(self, shape, undobuffersize, visible)\u001b[0m\n\u001b[0;32m   3812\u001b[0m         \u001b[1;32mif\u001b[0m \u001b[0mTurtle\u001b[0m\u001b[1;33m.\u001b[0m\u001b[0m_screen\u001b[0m \u001b[1;32mis\u001b[0m \u001b[1;32mNone\u001b[0m\u001b[1;33m:\u001b[0m\u001b[1;33m\u001b[0m\u001b[1;33m\u001b[0m\u001b[0m\n\u001b[0;32m   3813\u001b[0m             \u001b[0mTurtle\u001b[0m\u001b[1;33m.\u001b[0m\u001b[0m_screen\u001b[0m \u001b[1;33m=\u001b[0m \u001b[0mScreen\u001b[0m\u001b[1;33m(\u001b[0m\u001b[1;33m)\u001b[0m\u001b[1;33m\u001b[0m\u001b[1;33m\u001b[0m\u001b[0m\n\u001b[1;32m-> 3814\u001b[1;33m         RawTurtle.__init__(self, Turtle._screen,\n\u001b[0m\u001b[0;32m   3815\u001b[0m                            \u001b[0mshape\u001b[0m\u001b[1;33m=\u001b[0m\u001b[0mshape\u001b[0m\u001b[1;33m,\u001b[0m\u001b[1;33m\u001b[0m\u001b[1;33m\u001b[0m\u001b[0m\n\u001b[0;32m   3816\u001b[0m                            \u001b[0mundobuffersize\u001b[0m\u001b[1;33m=\u001b[0m\u001b[0mundobuffersize\u001b[0m\u001b[1;33m,\u001b[0m\u001b[1;33m\u001b[0m\u001b[1;33m\u001b[0m\u001b[0m\n",
      "\u001b[1;32m~\\anaconda3\\lib\\turtle.py\u001b[0m in \u001b[0;36m__init__\u001b[1;34m(self, canvas, shape, undobuffersize, visible)\u001b[0m\n\u001b[0;32m   2556\u001b[0m         \u001b[0mself\u001b[0m\u001b[1;33m.\u001b[0m\u001b[0m_undobuffersize\u001b[0m \u001b[1;33m=\u001b[0m \u001b[0mundobuffersize\u001b[0m\u001b[1;33m\u001b[0m\u001b[1;33m\u001b[0m\u001b[0m\n\u001b[0;32m   2557\u001b[0m         \u001b[0mself\u001b[0m\u001b[1;33m.\u001b[0m\u001b[0mundobuffer\u001b[0m \u001b[1;33m=\u001b[0m \u001b[0mTbuffer\u001b[0m\u001b[1;33m(\u001b[0m\u001b[0mundobuffersize\u001b[0m\u001b[1;33m)\u001b[0m\u001b[1;33m\u001b[0m\u001b[1;33m\u001b[0m\u001b[0m\n\u001b[1;32m-> 2558\u001b[1;33m         \u001b[0mself\u001b[0m\u001b[1;33m.\u001b[0m\u001b[0m_update\u001b[0m\u001b[1;33m(\u001b[0m\u001b[1;33m)\u001b[0m\u001b[1;33m\u001b[0m\u001b[1;33m\u001b[0m\u001b[0m\n\u001b[0m\u001b[0;32m   2559\u001b[0m \u001b[1;33m\u001b[0m\u001b[0m\n\u001b[0;32m   2560\u001b[0m     \u001b[1;32mdef\u001b[0m \u001b[0mreset\u001b[0m\u001b[1;33m(\u001b[0m\u001b[0mself\u001b[0m\u001b[1;33m)\u001b[0m\u001b[1;33m:\u001b[0m\u001b[1;33m\u001b[0m\u001b[1;33m\u001b[0m\u001b[0m\n",
      "\u001b[1;32m~\\anaconda3\\lib\\turtle.py\u001b[0m in \u001b[0;36m_update\u001b[1;34m(self)\u001b[0m\n\u001b[0;32m   2659\u001b[0m             \u001b[1;32mreturn\u001b[0m\u001b[1;33m\u001b[0m\u001b[1;33m\u001b[0m\u001b[0m\n\u001b[0;32m   2660\u001b[0m         \u001b[1;32melif\u001b[0m \u001b[0mscreen\u001b[0m\u001b[1;33m.\u001b[0m\u001b[0m_tracing\u001b[0m \u001b[1;33m==\u001b[0m \u001b[1;36m1\u001b[0m\u001b[1;33m:\u001b[0m\u001b[1;33m\u001b[0m\u001b[1;33m\u001b[0m\u001b[0m\n\u001b[1;32m-> 2661\u001b[1;33m             \u001b[0mself\u001b[0m\u001b[1;33m.\u001b[0m\u001b[0m_update_data\u001b[0m\u001b[1;33m(\u001b[0m\u001b[1;33m)\u001b[0m\u001b[1;33m\u001b[0m\u001b[1;33m\u001b[0m\u001b[0m\n\u001b[0m\u001b[0;32m   2662\u001b[0m             \u001b[0mself\u001b[0m\u001b[1;33m.\u001b[0m\u001b[0m_drawturtle\u001b[0m\u001b[1;33m(\u001b[0m\u001b[1;33m)\u001b[0m\u001b[1;33m\u001b[0m\u001b[1;33m\u001b[0m\u001b[0m\n\u001b[0;32m   2663\u001b[0m             \u001b[0mscreen\u001b[0m\u001b[1;33m.\u001b[0m\u001b[0m_update\u001b[0m\u001b[1;33m(\u001b[0m\u001b[1;33m)\u001b[0m                  \u001b[1;31m# TurtleScreenBase\u001b[0m\u001b[1;33m\u001b[0m\u001b[1;33m\u001b[0m\u001b[0m\n",
      "\u001b[1;32m~\\anaconda3\\lib\\turtle.py\u001b[0m in \u001b[0;36m_update_data\u001b[1;34m(self)\u001b[0m\n\u001b[0;32m   2645\u001b[0m \u001b[1;33m\u001b[0m\u001b[0m\n\u001b[0;32m   2646\u001b[0m     \u001b[1;32mdef\u001b[0m \u001b[0m_update_data\u001b[0m\u001b[1;33m(\u001b[0m\u001b[0mself\u001b[0m\u001b[1;33m)\u001b[0m\u001b[1;33m:\u001b[0m\u001b[1;33m\u001b[0m\u001b[1;33m\u001b[0m\u001b[0m\n\u001b[1;32m-> 2647\u001b[1;33m         \u001b[0mself\u001b[0m\u001b[1;33m.\u001b[0m\u001b[0mscreen\u001b[0m\u001b[1;33m.\u001b[0m\u001b[0m_incrementudc\u001b[0m\u001b[1;33m(\u001b[0m\u001b[1;33m)\u001b[0m\u001b[1;33m\u001b[0m\u001b[1;33m\u001b[0m\u001b[0m\n\u001b[0m\u001b[0;32m   2648\u001b[0m         \u001b[1;32mif\u001b[0m \u001b[0mself\u001b[0m\u001b[1;33m.\u001b[0m\u001b[0mscreen\u001b[0m\u001b[1;33m.\u001b[0m\u001b[0m_updatecounter\u001b[0m \u001b[1;33m!=\u001b[0m \u001b[1;36m0\u001b[0m\u001b[1;33m:\u001b[0m\u001b[1;33m\u001b[0m\u001b[1;33m\u001b[0m\u001b[0m\n\u001b[0;32m   2649\u001b[0m             \u001b[1;32mreturn\u001b[0m\u001b[1;33m\u001b[0m\u001b[1;33m\u001b[0m\u001b[0m\n",
      "\u001b[1;32m~\\anaconda3\\lib\\turtle.py\u001b[0m in \u001b[0;36m_incrementudc\u001b[1;34m(self)\u001b[0m\n\u001b[0;32m   1291\u001b[0m         \u001b[1;32mif\u001b[0m \u001b[1;32mnot\u001b[0m \u001b[0mTurtleScreen\u001b[0m\u001b[1;33m.\u001b[0m\u001b[0m_RUNNING\u001b[0m\u001b[1;33m:\u001b[0m\u001b[1;33m\u001b[0m\u001b[1;33m\u001b[0m\u001b[0m\n\u001b[0;32m   1292\u001b[0m             \u001b[0mTurtleScreen\u001b[0m\u001b[1;33m.\u001b[0m\u001b[0m_RUNNING\u001b[0m \u001b[1;33m=\u001b[0m \u001b[1;32mTrue\u001b[0m\u001b[1;33m\u001b[0m\u001b[1;33m\u001b[0m\u001b[0m\n\u001b[1;32m-> 1293\u001b[1;33m             \u001b[1;32mraise\u001b[0m \u001b[0mTerminator\u001b[0m\u001b[1;33m\u001b[0m\u001b[1;33m\u001b[0m\u001b[0m\n\u001b[0m\u001b[0;32m   1294\u001b[0m         \u001b[1;32mif\u001b[0m \u001b[0mself\u001b[0m\u001b[1;33m.\u001b[0m\u001b[0m_tracing\u001b[0m \u001b[1;33m>\u001b[0m \u001b[1;36m0\u001b[0m\u001b[1;33m:\u001b[0m\u001b[1;33m\u001b[0m\u001b[1;33m\u001b[0m\u001b[0m\n\u001b[0;32m   1295\u001b[0m             \u001b[0mself\u001b[0m\u001b[1;33m.\u001b[0m\u001b[0m_updatecounter\u001b[0m \u001b[1;33m+=\u001b[0m \u001b[1;36m1\u001b[0m\u001b[1;33m\u001b[0m\u001b[1;33m\u001b[0m\u001b[0m\n",
      "\u001b[1;31mTerminator\u001b[0m: "
     ]
    }
   ],
   "source": [
    "import turtle\n",
    "\n",
    "def desenhaQuadrado(t, tam):\n",
    "    \"\"\"Faca a tartaruga t desenhar um quadrado de lado tam.\"\"\"\n",
    "\n",
    "    for i in range(4):\n",
    "        t.forward(tam)\n",
    "        t.left(90)\n",
    "\n",
    "\n",
    "wn = turtle.Screen()              # Inicializa a janela e seus atributos\n",
    "wn.bgcolor(\"lightgreen\")\n",
    "\n",
    "alex = turtle.Turtle()            # cria alex\n",
    "desenhaQuadrado(alex, 50)         # Chama a função para desenhar um quadrado\n",
    "\n",
    "wn.exitonclick()\n"
   ]
  },
  {
   "cell_type": "code",
   "execution_count": 1,
   "id": "28aa0ca0",
   "metadata": {},
   "outputs": [],
   "source": [
    "import turtle\n",
    "\n",
    "def desenhaQuadradoMulticolorido(t, tam):\n",
    "    \"\"\"Faca a tartaruga t desenhar um quadrado multicolorido de lado tam.\"\"\"\n",
    "    for i in ['red','purple','hotpink','blue']:\n",
    "        t.color(i)\n",
    "        t.forward(tam)\n",
    "        t.left(90)\n",
    "\n",
    "wn = turtle.Screen()              # Inicializa a janela e seus atributos\n",
    "wn.bgcolor(\"lightgreen\")\n",
    "\n",
    "tess = turtle.Turtle()            # cria tess e seus atributos\n",
    "tess.pensize(3)\n",
    "\n",
    "tamanho = 20                      # tamanho do menor quadrado\n",
    "for i in range(15):\n",
    "    desenhaQuadradoMulticolorido(tess, tamanho)\n",
    "    tamanho = tamanho + 10       # aumenta o tamanho para a próxima vez\n",
    "    tess.forward(10)             # move tess um pouco à frente\n",
    "    tess.right(18)               # e dá uma virada nela\n",
    "\n",
    "wn.exitonclick()\n"
   ]
  },
  {
   "cell_type": "code",
   "execution_count": 3,
   "id": "978c775d",
   "metadata": {},
   "outputs": [],
   "source": [
    "def desenhaQuadrado(t, tam):\n",
    "    \"\"\"Faca a tartaruga t desenhar um quadrado com lado tam.\"\"\"\n",
    "    for i in range(4):\n",
    "        t.forward(tam)\n",
    "        t.left(90)"
   ]
  },
  {
   "cell_type": "code",
   "execution_count": null,
   "id": "b9a0cdec",
   "metadata": {},
   "outputs": [],
   "source": [
    "#!/usr/bin/env python3\n",
    "# Programa que calcula a área de um retângulo, círculo ou triângulo\n",
    "\n",
    "def retangulo(lado_a, lado_b):\n",
    "    \"\"\"Calcula a área de um retângulo\"\"\"\n",
    "    area = lado_a * lado_b\n",
    "    return area\n",
    "\n",
    "def triangulo(base, altura):\n",
    "    \"\"\"Calcula a área de um triângulo\"\"\"\n",
    "    area = (base * altura) / 2\n",
    "    return area\n",
    "\n",
    "def circulo(raio):\n",
    "    \"\"\"Calcula a área de um círculo\"\"\"\n",
    "    area = 3.14 * (raio ** 2)\n",
    "    return area\n",
    "\n",
    "opcao = -1\n",
    "while opcao != 0:\n",
    "    print('Escolha o objeto que deseja calcular a área')\n",
    "    print()\n",
    "    print('1 - Retângulo')\n",
    "    print('2 - Triângulo')\n",
    "    print('3 - Círculo')\n",
    "    print('0 - Sair')\n",
    "    print()\n",
    "    opcao = int(input('Entre com o número da opção desejada: '))\n",
    "    if (opcao == 1):\n",
    "        lado_a = float(input('Entre com um lado do retângulo: '))\n",
    "        lado_b = float(input('Entre com o outro lado do retângulo: '))\n",
    "        area = retangulo(lado_a, lado_b)\n",
    "        print('\\nA área do retâgulo é: {0:.2f}'.format(area))\n",
    "    elif (opcao == 2):\n",
    "        lado = float(input('Entre com a base do triângulo: '))\n",
    "        altura = float(input('Entre com a altura do triângulo: '))\n",
    "        area = triangulo(base, altura)\n",
    "        print('\\nA área do triângulo é: {0:.2f}'.format(area))\n",
    "    elif (opcao == 3):\n",
    "        raio = float(input('Entre com o raio do cículo: '))\n",
    "        area = circulo(raio)\n",
    "        print('\\nA área do círculo é: {0:.2f}'.format(area))\n",
    "    elif (opcao != 0):\n",
    "        print('\\n{0} não é uma opção valida'.format(opcao))\n",
    "\n",
    "    print()\n",
    "print('Volte a qualquer hora')"
   ]
  },
  {
   "cell_type": "code",
   "execution_count": null,
   "id": "fd6e4560",
   "metadata": {},
   "outputs": [],
   "source": []
  }
 ],
 "metadata": {
  "kernelspec": {
   "display_name": "Python 3",
   "language": "python",
   "name": "python3"
  },
  "language_info": {
   "codemirror_mode": {
    "name": "ipython",
    "version": 3
   },
   "file_extension": ".py",
   "mimetype": "text/x-python",
   "name": "python",
   "nbconvert_exporter": "python",
   "pygments_lexer": "ipython3",
   "version": "3.8.8"
  }
 },
 "nbformat": 4,
 "nbformat_minor": 5
}
